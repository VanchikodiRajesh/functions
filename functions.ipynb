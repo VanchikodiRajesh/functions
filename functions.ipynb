{
 "cells": [
  {
   "cell_type": "code",
   "execution_count": 41,
   "id": "6ce7e98b",
   "metadata": {},
   "outputs": [],
   "source": [
    "def subfields():\n",
    "    print (\"SUB- FIELDS IN AI are:\")\n",
    "    list=\"Machine Learning\",\"Nueral Network\",\"Vision\",\"Robotics\",\"Speech Processing\",\"Natural Language processing\"\n",
    "    \n",
    "    for temp in list:\n",
    "        print (temp)"
   ]
  },
  {
   "cell_type": "code",
   "execution_count": 22,
   "id": "d183e97f",
   "metadata": {},
   "outputs": [
    {
     "name": "stdout",
     "output_type": "stream",
     "text": [
      "SUB- FIELDS IN AI are:\n",
      "Machine Learning\n",
      "Nueral Network\n",
      "Vision\n",
      "Robotics\n",
      "Speech Processing\n",
      "Natural Language processing\n"
     ]
    }
   ],
   "source": [
    "subfields()"
   ]
  },
  {
   "cell_type": "code",
   "execution_count": null,
   "id": "080b6530",
   "metadata": {},
   "outputs": [],
   "source": [
    "#create a function that whether the given number is odd or even"
   ]
  },
  {
   "cell_type": "code",
   "execution_count": 2,
   "id": "0cc3ad67",
   "metadata": {},
   "outputs": [],
   "source": [
    "def check():\n",
    "    number=int(input(\"enter the number\"))\n",
    "    if number%2==0:\n",
    "        ans = \"the given number is even number\"\n",
    "        print (ans)\n",
    "    else:\n",
    "        ans = \"the given number is odd number\"\n",
    "        print (ans) \n",
    "        return ans\n",
    "        "
   ]
  },
  {
   "cell_type": "code",
   "execution_count": 3,
   "id": "43223531",
   "metadata": {},
   "outputs": [
    {
     "name": "stdout",
     "output_type": "stream",
     "text": [
      "enter the number7878\n",
      "the given number is even number\n"
     ]
    }
   ],
   "source": [
    "check()\n"
   ]
  },
  {
   "cell_type": "code",
   "execution_count": 1,
   "id": "a7531536",
   "metadata": {},
   "outputs": [],
   "source": [
    "#3.create a funtion that tells eligiblity of marriage  for female according to their age limit like 21 nfor male and 18 for female\n",
    "\n",
    "def eligible():\n",
    "    age=int(input(\"enter the age\"))\n",
    "    gender=input(\"enter the gender\")\n",
    "    if gender==\"male\" and age >=21:\n",
    "            print (\"your age=\",age)\n",
    "            print (\"your gender\",gender)\n",
    "            print (\"eligible\")\n",
    "    elif gender==\"female\" and age >=18:\n",
    "            print (\"your age=\",age)\n",
    "            print (\"your gender\",gender)\n",
    "            print (\"eligible\")\n",
    "    else:\n",
    "            print (\"your age=\",age)\n",
    "            print (\"your gender\",gender)\n",
    "            print(\"not eligible\")"
   ]
  },
  {
   "cell_type": "code",
   "execution_count": 4,
   "id": "26b270d3",
   "metadata": {},
   "outputs": [
    {
     "name": "stdout",
     "output_type": "stream",
     "text": [
      "enter the age12\n",
      "enter the gendermale\n",
      "your age= 12\n",
      "your gender male\n",
      "not eligible\n"
     ]
    }
   ],
   "source": [
    "eligible()\n",
    "\n"
   ]
  },
  {
   "cell_type": "code",
   "execution_count": 36,
   "id": "b4c71621",
   "metadata": {},
   "outputs": [],
   "source": [
    "#4.calculate the percentage of your 10 th mark\n",
    "def cal_percentage():\n",
    "    tamil=int(input(\"enter your tamil mark\"))\n",
    "    english=int(input(\"enter your english mark\"))\n",
    "    maths=int(input(\"enter your maths mark\"))\n",
    "    science=int(input(\"enter your science mark\"))\n",
    "    social=int(input(\"enter your social  mark\"))\n",
    "    total=tamil+english+maths+science+social \n",
    "    Average=float(total/5)\n",
    "    print(\"------------------------\")\n",
    "    print(\"MARKSHEET\")\n",
    "    print(\"------------------------\")\n",
    "    print(\"TAMIL     = \",tamil)\n",
    "    print(\"ENGLISH   = \",english)\n",
    "    print(\"MATHS     = \",maths)\n",
    "    print(\"SCIENCE   = \",science)\n",
    "    print(\"SOCIAL    = \",social)\n",
    "    print(\"------------------------\")\n",
    "    print(\"TOTAL     = \",total)\n",
    "    print(\"AVERAGE   = \",Average)\n",
    "    print(\"------------------------\")\n",
    "          "
   ]
  },
  {
   "cell_type": "code",
   "execution_count": 37,
   "id": "86b3fef1",
   "metadata": {},
   "outputs": [
    {
     "name": "stdout",
     "output_type": "stream",
     "text": [
      "enter your tamil mark90\n",
      "enter your english mark89\n",
      "enter your maths mark90\n",
      "enter your science mark90\n",
      "enter your social  mark90\n",
      "------------------------\n",
      "MARKSHEET\n",
      "------------------------\n",
      "TAMIL     =  90\n",
      "ENGLISH   =  89\n",
      "MATHS     =  90\n",
      "SCIENCE   =  90\n",
      "SOCIAL    =  90\n",
      "------------------------\n",
      "TOTAL     =  449\n",
      "AVERAGE   =  89.8\n",
      "------------------------\n"
     ]
    }
   ],
   "source": [
    "\n",
    "cal_percentage()"
   ]
  },
  {
   "cell_type": "code",
   "execution_count": 38,
   "id": "f27f7f46",
   "metadata": {},
   "outputs": [],
   "source": [
    "#5.find area of triangle and perimeter of triangle\n",
    "def area_of_triangle():\n",
    "    height=float(input (\"enter the height\"))\n",
    "    breadth=float(input(\"enter the breath\"))\n",
    "    area=(height*breadth/2)\n",
    "    print(\"--------------------------\")\n",
    "    print(\"AREA OF TRIANGLE\")\n",
    "    print (\"--------------------------\")\n",
    "    print (\" height             = \",height)\n",
    "    print(\"breadth              =\",breadth)\n",
    "    print(\"Area of the triangle = \" ,area)\n",
    "    print(\"-----------------------------\")\n",
    "def perimeter_of_triangle():\n",
    "    height1=float(input (\"enter the height1\"))\n",
    "    height2=float(input (\"enter the height2\"))\n",
    "    breadth=float(input(\"enter the breath\"))\n",
    "    perimeter=(height1+height2+breadth)\n",
    "    print(\"--------------------------\")\n",
    "    print(\"PERIMETER OF TRIANGLE\")\n",
    "    print (\"--------------------------\")\n",
    "    print (\" height1                 = \",height1)\n",
    "    print (\" height2                 = \",height2)\n",
    "    print(\"breadth                   =\",breadth)\n",
    "    print(\"PERIMETER OF THE TRIANGLE = \" ,perimeter)\n",
    "    print(\"-----------------------------\")\n",
    "    "
   ]
  },
  {
   "cell_type": "code",
   "execution_count": 39,
   "id": "65c3e4b4",
   "metadata": {},
   "outputs": [
    {
     "name": "stdout",
     "output_type": "stream",
     "text": [
      "enter the height32\n",
      "enter the breath34\n",
      "--------------------------\n",
      "AREA OF TRIANGLE\n",
      "--------------------------\n",
      " height             =  32.0\n",
      "breadth              = 34.0\n",
      "Area of the triangle =  544.0\n",
      "-----------------------------\n",
      "enter the height12\n",
      "enter the height24\n",
      "enter the breath4\n",
      "--------------------------\n",
      "PERIMETER OF TRIANGLE\n",
      "--------------------------\n",
      " height1                 =  2.0\n",
      " height2                 =  4.0\n",
      "breadth                   = 4.0\n",
      "PERIMETER OF THE TRIANGLE =  10.0\n",
      "-----------------------------\n"
     ]
    }
   ],
   "source": [
    "area_of_triangle()\n",
    "perimeter_of_triangle()"
   ]
  },
  {
   "cell_type": "code",
   "execution_count": null,
   "id": "3936f16a",
   "metadata": {},
   "outputs": [],
   "source": []
  }
 ],
 "metadata": {
  "kernelspec": {
   "display_name": "Python 3 (ipykernel)",
   "language": "python",
   "name": "python3"
  },
  "language_info": {
   "codemirror_mode": {
    "name": "ipython",
    "version": 3
   },
   "file_extension": ".py",
   "mimetype": "text/x-python",
   "name": "python",
   "nbconvert_exporter": "python",
   "pygments_lexer": "ipython3",
   "version": "3.11.5"
  }
 },
 "nbformat": 4,
 "nbformat_minor": 5
}
