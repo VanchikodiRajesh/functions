{
 "cells": [
  {
   "cell_type": "code",
   "execution_count": 9,
   "id": "dd5dffed",
   "metadata": {},
   "outputs": [],
   "source": [
    "def addition():\n",
    "    a=10\n",
    "    b=20\n",
    "    c=a+b\n",
    "    print(c)\n",
    "    \n",
    "\n"
   ]
  },
  {
   "cell_type": "code",
   "execution_count": 25,
   "id": "887d12c5",
   "metadata": {},
   "outputs": [],
   "source": [
    "def s():\n",
    "        no1 = int(input(\"enter the number1\"))\n",
    "        no2 = int(input(\"enter the number2\"))\n",
    "        m = no1-no2\n",
    "        print (m)\n",
    "        return m"
   ]
  },
  {
   "cell_type": "code",
   "execution_count": 26,
   "id": "b79b7979",
   "metadata": {},
   "outputs": [
    {
     "name": "stdout",
     "output_type": "stream",
     "text": [
      "enter the number112\n",
      "enter the number28\n",
      "4\n"
     ]
    },
    {
     "data": {
      "text/plain": [
       "4"
      ]
     },
     "execution_count": 26,
     "metadata": {},
     "output_type": "execute_result"
    }
   ],
   "source": [
    "s()\n",
    "\n",
    "\n",
    "\n",
    "\n"
   ]
  },
  {
   "cell_type": "code",
   "execution_count": 35,
   "id": "d63dd304",
   "metadata": {},
   "outputs": [],
   "source": [
    "def oddoreven( NO):\n",
    "        if no % 2 == 0:\n",
    "        ans=\"even number\"\n",
    "    else:\n",
    "        ans =\"odd\" \n",
    "        return ans"
   ]
  },
  {
   "cell_type": "code",
   "execution_count": 37,
   "id": "e2ee70ad",
   "metadata": {},
   "outputs": [
    {
     "name": "stdout",
     "output_type": "stream",
     "text": [
      "30\n",
      "enter the number134\n",
      "enter the number25\n",
      "29\n"
     ]
    },
    {
     "ename": "TypeError",
     "evalue": "oddoreven() takes 0 positional arguments but 1 was given",
     "output_type": "error",
     "traceback": [
      "\u001b[1;31m---------------------------------------------------------------------------\u001b[0m",
      "\u001b[1;31mTypeError\u001b[0m                                 Traceback (most recent call last)",
      "Cell \u001b[1;32mIn[37], line 3\u001b[0m\n\u001b[0;32m      1\u001b[0m addition()\n\u001b[0;32m      2\u001b[0m s()\n\u001b[1;32m----> 3\u001b[0m oddoreven(\u001b[38;5;241m2\u001b[39m)\n",
      "\u001b[1;31mTypeError\u001b[0m: oddoreven() takes 0 positional arguments but 1 was given"
     ]
    }
   ],
   "source": [
    "addition()\n",
    "s()\n",
    "oddoreven(2)\n"
   ]
  },
  {
   "cell_type": "code",
   "execution_count": null,
   "id": "cb3ea940",
   "metadata": {},
   "outputs": [],
   "source": []
  }
 ],
 "metadata": {
  "kernelspec": {
   "display_name": "Python 3 (ipykernel)",
   "language": "python",
   "name": "python3"
  },
  "language_info": {
   "codemirror_mode": {
    "name": "ipython",
    "version": 3
   },
   "file_extension": ".py",
   "mimetype": "text/x-python",
   "name": "python",
   "nbconvert_exporter": "python",
   "pygments_lexer": "ipython3",
   "version": "3.11.5"
  }
 },
 "nbformat": 4,
 "nbformat_minor": 5
}
